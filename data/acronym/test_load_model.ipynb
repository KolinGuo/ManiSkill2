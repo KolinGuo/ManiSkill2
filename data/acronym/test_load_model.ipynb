{
 "cells": [
  {
   "cell_type": "code",
   "execution_count": 1,
   "metadata": {},
   "outputs": [],
   "source": [
    "from pathlib import Path\n",
    "\n",
    "models_old_dir = Path(\"models_old\")\n",
    "old_models = [x for x in models_old_dir.iterdir()]\n",
    "\n",
    "models_dir = Path(\"models\")\n",
    "models = [x for x in models_dir.iterdir()]\n",
    "\n",
    "assert len([p for p in models if (p / \"acronym_grasps.h5\").is_file()]) == 8836"
   ]
  },
  {
   "cell_type": "code",
   "execution_count": 2,
   "metadata": {},
   "outputs": [
    {
     "name": "stderr",
     "output_type": "stream",
     "text": [
      "/usr/local/lib/python3.10/dist-packages/sapien/wrapper/pinocchio_model.py:281: UserWarning: pinnochio package is not installed, fallback to built-in pinocchio\n",
      "  warnings.warn(\n"
     ]
    },
    {
     "name": "stdout",
     "output_type": "stream",
     "text": [
      "3.0.0.dev20231214+79dab86\n"
     ]
    }
   ],
   "source": [
    "import sapien\n",
    "import sapien.physx as physx\n",
    "from sapien.utils import Viewer\n",
    "print(sapien.__version__)\n",
    "\n",
    "_engine = sapien.Engine()\n",
    "_renderer = sapien.SapienRenderer()\n",
    "_engine.set_renderer(_renderer)\n",
    "\n",
    "scene_config = sapien.SceneConfig()\n",
    "physx.set_default_material(static_friction=1.0, dynamic_friction=1.0,\n",
    "                            restitution=0.0)\n",
    "scene_config.contact_offset = 0.02\n",
    "scene_config.solver_iterations = 25\n",
    "scene_config.solver_velocity_iterations = 1\n",
    "scene: sapien.Scene = _engine.create_scene(scene_config)\n",
    "scene.set_timestep(1.0 / 500)\n",
    "arena = scene.load_widget_from_package(\"sapien_demo_arena\", \"DemoArena\")\n",
    "\n",
    "# viewer = Viewer(_renderer)\n",
    "# viewer.set_scene(scene)\n",
    "# viewer.paused = True\n",
    "# viewer.render()"
   ]
  },
  {
   "cell_type": "code",
   "execution_count": 3,
   "metadata": {},
   "outputs": [
    {
     "name": "stderr",
     "output_type": "stream",
     "text": [
      "  1%|          | 69/8836 [00:00<01:12, 120.56it/s]"
     ]
    },
    {
     "ename": "",
     "evalue": "",
     "output_type": "error",
     "traceback": [
      "\u001b[1;31mThe Kernel crashed while executing code in the the current cell or a previous cell. Please review the code in the cell(s) to identify a possible cause of the failure. Click <a href='https://aka.ms/vscodeJupyterKernelCrash'>here</a> for more info. View Jupyter <a href='command:jupyter.viewOutput'>log</a> for further details."
     ]
    }
   ],
   "source": [
    "from tqdm import tqdm\n",
    "for model_dir in tqdm(models):\n",
    "    obj_category, shapenetid, scale = model_dir.name.split(\"_\")\n",
    "    scale = float(scale)\n",
    "\n",
    "    builder = scene.create_actor_builder()\n",
    "    builder.add_visual_from_file(str(model_dir / \"textured.obj\"), scale=[scale] * 3)\n",
    "    builder.add_multiple_convex_collisions_from_file(str(model_dir / \"collision.coacd.ply\"), scale=[scale] * 3)\n",
    "    actor = builder.build()"
   ]
  },
  {
   "cell_type": "markdown",
   "metadata": {},
   "source": [
    "## Old models"
   ]
  },
  {
   "cell_type": "code",
   "execution_count": 3,
   "metadata": {},
   "outputs": [
    {
     "name": "stderr",
     "output_type": "stream",
     "text": [
      "  0%|          | 0/8836 [00:00<?, ?it/s]"
     ]
    },
    {
     "name": "stderr",
     "output_type": "stream",
     "text": [
      " 56%|█████▋    | 4974/8836 [01:20<01:11, 54.28it/s][2024-01-04 12:09:15.638] [SAPIEN] [critical] Gu::ConvexMesh: Error computing mesh mass properties!\n",
      "\n",
      " 64%|██████▍   | 5637/8836 [01:33<01:03, 50.25it/s][2024-01-04 12:09:28.071] [SAPIEN] [critical] Gu::ConvexMesh: Error computing mesh mass properties!\n",
      "\n",
      "100%|██████████| 8836/8836 [02:31<00:00, 58.18it/s]\n"
     ]
    }
   ],
   "source": [
    "from tqdm import tqdm\n",
    "for model_dir in tqdm(old_models):\n",
    "    obj_category, shapenetid, scale = model_dir.name.split(\"_\")\n",
    "    scale = float(scale)\n",
    "\n",
    "    builder = scene.create_actor_builder()\n",
    "    builder.add_visual_from_file(str(model_dir / \"textured.obj\"), scale=[scale] * 3)\n",
    "    builder.add_multiple_convex_collisions_from_file(str(model_dir / \"collision.obj\"), scale=[scale] * 3)\n",
    "    actor = builder.build()"
   ]
  }
 ],
 "metadata": {
  "kernelspec": {
   "display_name": "Python 3",
   "language": "python",
   "name": "python3"
  },
  "language_info": {
   "codemirror_mode": {
    "name": "ipython",
    "version": 3
   },
   "file_extension": ".py",
   "mimetype": "text/x-python",
   "name": "python",
   "nbconvert_exporter": "python",
   "pygments_lexer": "ipython3",
   "version": "3.10.12"
  }
 },
 "nbformat": 4,
 "nbformat_minor": 2
}
